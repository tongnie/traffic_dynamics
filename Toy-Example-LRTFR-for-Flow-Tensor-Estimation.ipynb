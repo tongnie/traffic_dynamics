{
 "cells": [
  {
   "cell_type": "markdown",
   "id": "7c0a1053",
   "metadata": {
    "toc": true
   },
   "source": [
    "<h1>Table of Contents<span class=\"tocSkip\"></span></h1>\n",
    "<div class=\"toc\"><ul class=\"toc-item\"><li><span><a href=\"#Load-data\" data-toc-modified-id=\"Load-data-1\"><span class=\"toc-item-num\">1&nbsp;&nbsp;</span>Load data</a></span></li><li><span><a href=\"#Define-the-model\" data-toc-modified-id=\"Define-the-model-2\"><span class=\"toc-item-num\">2&nbsp;&nbsp;</span>Define the model</a></span></li><li><span><a href=\"#Run\" data-toc-modified-id=\"Run-3\"><span class=\"toc-item-num\">3&nbsp;&nbsp;</span>Run</a></span><ul class=\"toc-item\"><li><span><a href=\"#Training\" data-toc-modified-id=\"Training-3.1\"><span class=\"toc-item-num\">3.1&nbsp;&nbsp;</span>Training</a></span></li><li><span><a href=\"#Evaluation\" data-toc-modified-id=\"Evaluation-3.2\"><span class=\"toc-item-num\">3.2&nbsp;&nbsp;</span>Evaluation</a></span></li></ul></li><li><span><a href=\"#END\" data-toc-modified-id=\"END-4\"><span class=\"toc-item-num\">4&nbsp;&nbsp;</span>END</a></span></li></ul></div>"
   ]
  },
  {
   "cell_type": "markdown",
   "id": "4ea0ee11",
   "metadata": {},
   "source": [
    "In this notebook, we implement the baseline: Low-Rank Tensor Functional Representation model for 3D traffic data imputation."
   ]
  },
  {
   "cell_type": "code",
   "execution_count": 1,
   "id": "86b461b7",
   "metadata": {},
   "outputs": [
    {
     "name": "stderr",
     "output_type": "stream",
     "text": [
      "<frozen importlib._bootstrap>:228: RuntimeWarning: scipy._lib.messagestream.MessageStream size changed, may indicate binary incompatibility. Expected 56 from C header, got 64 from PyObject\n"
     ]
    }
   ],
   "source": [
    "import numpy as np\n",
    "import pandas as pd\n",
    "import matplotlib.pyplot as plt\n",
    "import seaborn as sns\n",
    "from torch import nn, optim \n",
    "import torch.nn.functional as F\n",
    "import torch\n",
    "dtype = torch.cuda.FloatTensor\n",
    "import math\n",
    "from typing import Optional,List\n",
    "import torch\n",
    "import torch.nn as nn\n",
    "from torch import Tensor\n",
    "import torch.nn.functional as F\n",
    "\n",
    "import matplotlib as mpl\n",
    "plt.rcParams['font.family'] = 'Arial'\n",
    "mpl.rcParams['pdf.fonttype'] = 42\n",
    "\n",
    "def compute_mape(var, var_hat):\n",
    "    return np.sum(np.abs(var - var_hat) / var) / var.shape[0]\n",
    "\n",
    "def compute_wmape(var, var_hat):\n",
    "    return np.sum(np.abs(var - var_hat)) / np.sum(var)\n",
    "\n",
    "def compute_rmse(var, var_hat):\n",
    "    return np.sqrt(np.sum((var - var_hat) ** 2) / var.shape[0])"
   ]
  },
  {
   "cell_type": "markdown",
   "id": "18cc1009",
   "metadata": {},
   "source": [
    "## Load data"
   ]
  },
  {
   "cell_type": "code",
   "execution_count": 2,
   "id": "7201a042",
   "metadata": {},
   "outputs": [],
   "source": [
    "# Data structure: [Days, X, Y]\n",
    "dense_tensor_32 = np.load('datasets/TaxiBJ/X.npy')[:48*7,:,:]"
   ]
  },
  {
   "cell_type": "code",
   "execution_count": 3,
   "id": "420f8d37",
   "metadata": {},
   "outputs": [
    {
     "name": "stdout",
     "output_type": "stream",
     "text": [
      "(336, 32, 32)\n"
     ]
    },
    {
     "data": {
      "text/plain": [
       "<matplotlib.colorbar.Colorbar at 0x1f9f14e4ca0>"
      ]
     },
     "execution_count": 3,
     "metadata": {},
     "output_type": "execute_result"
    },
    {
     "data": {
      "image/png": "[encoded data removed]",
      "text/plain": [
       "<Figure size 432x288 with 2 Axes>"
      ]
     },
     "metadata": {
      "needs_background": "light"
     },
     "output_type": "display_data"
    }
   ],
   "source": [
    "print(dense_tensor_32.shape)\n",
    "plt.imshow(dense_tensor_32[28])\n",
    "plt.colorbar()"
   ]
  },
  {
   "cell_type": "markdown",
   "id": "cba02df2",
   "metadata": {},
   "source": [
    "## Define the model"
   ]
  },
  {
   "cell_type": "code",
   "execution_count": 4,
   "id": "06160d3f",
   "metadata": {},
   "outputs": [],
   "source": [
    "class SineLayer(nn.Module):\n",
    "    def __init__(self, in_features, out_features,omega_0, bias=True,\n",
    "                 is_first=False): \n",
    "        super().__init__()\n",
    "        self.omega_0 = omega_0\n",
    "        self.is_first = is_first\n",
    "        self.in_features = in_features\n",
    "        self.linear = nn.Linear(in_features, out_features, bias=bias)\n",
    "        self.init_weights()\n",
    "    \n",
    "    def init_weights(self):\n",
    "        with torch.no_grad():\n",
    "            if self.is_first:\n",
    "                self.linear.weight.uniform_(-1 / self.in_features, \n",
    "                                             1 / self.in_features)      \n",
    "            else:\n",
    "                self.linear.weight.uniform_(-np.sqrt(6 / self.in_features) / self.omega_0, \n",
    "                                             np.sqrt(6 / self.in_features) / self.omega_0)\n",
    "        \n",
    "    def forward(self, input):\n",
    "        return torch.sin(self.omega_0 * self.linear(input))\n",
    "\n",
    "class LRTFR(nn.Module):\n",
    "    def __init__(self, r_1,r_2,r_3,mid_channel,omega):\n",
    "        super(LRTFR, self).__init__()\n",
    "        \n",
    "        self.U_net = nn.Sequential(SineLayer(1, mid_channel, omega, is_first=True),\n",
    "                                   SineLayer(mid_channel, mid_channel, omega,is_first=True),\n",
    "                                   nn.Linear(mid_channel, r_1,omega))\n",
    "        \n",
    "        self.V_net = nn.Sequential(SineLayer(1, mid_channel, omega,is_first=True),\n",
    "                                   SineLayer(mid_channel, mid_channel,omega, is_first=True),\n",
    "                                   nn.Linear(mid_channel, r_2))\n",
    "        \n",
    "        self.W_net = nn.Sequential(SineLayer(1, mid_channel, omega,is_first=True),\n",
    "                                   SineLayer(mid_channel, mid_channel, omega,is_first=True),\n",
    "                                   nn.Linear(mid_channel, r_3,omega))\n",
    "\n",
    "    def forward(self, centre, U_input, V_input, W_input):\n",
    "        U = self.U_net(U_input)\n",
    "        V = self.V_net(V_input)\n",
    "        W = self.W_net(W_input)\n",
    "        \n",
    "        centre = centre.permute(1,2,0) \n",
    "        centre = centre @ U.t()\n",
    "        centre = centre.permute(2,1,0) \n",
    "        centre = centre @ V.t()\n",
    "        centre = centre.permute(0,2,1) \n",
    "        centre = centre @ W.t()\n",
    "        return centre\n"
   ]
  },
  {
   "cell_type": "markdown",
   "id": "738344c3",
   "metadata": {},
   "source": [
    "## Run"
   ]
  },
  {
   "cell_type": "code",
   "execution_count": 6,
   "id": "71917585",
   "metadata": {},
   "outputs": [],
   "source": [
    "################### \n",
    "# Here are the hyperparameters. \n",
    "w_decay = 1  \n",
    "lr_real = 0.0001\n",
    "max_iter = 5000\n",
    "omega = 10 \n",
    "mid_channel = 512 \n",
    "###################\n",
    "\n",
    "dense_tensor = dense_tensor_32.copy()\n",
    "dim = dense_tensor.shape\n",
    "missing_rate = 0.8 # Random missing (RM)\n",
    "np.random.seed(42)\n",
    "sparse_tensor = dense_tensor * np.round(np.random.rand(dim[0], dim[1], dim[2]) + 0.5 - missing_rate)\n",
    "\n",
    "X = torch.from_numpy(sparse_tensor).type(dtype).cuda()\n",
    "X = torch.where(torch.isnan(X), 0, X)\n",
    "[n_1,n_2,n_3] = X.shape\n",
    "\n",
    "r_1 = min(n_1,n_2,n_3)\n",
    "r_2 = min(n_1,n_2,n_3)\n",
    "r_3 = min(n_1,n_2,n_3) \n",
    "\n",
    "mask = np.ones(X.shape)\n",
    "mask[(dense_tensor != 0) & (sparse_tensor == 0)] = 0 \n",
    "mask = torch.from_numpy(mask).type(dtype).cuda()"
   ]
  },
  {
   "cell_type": "markdown",
   "id": "31319db8",
   "metadata": {},
   "source": [
    "### Training"
   ]
  },
  {
   "cell_type": "code",
   "execution_count": 7,
   "id": "bc5753ef",
   "metadata": {},
   "outputs": [
    {
     "name": "stdout",
     "output_type": "stream",
     "text": [
      "Running time: 90 seconds.\n"
     ]
    }
   ],
   "source": [
    "centre = torch.Tensor(r_1,r_2, r_3).type(dtype)\n",
    "stdv = 1 / math.sqrt(centre.size(0))\n",
    "centre.data.uniform_(-stdv, stdv)\n",
    "U_input = torch.from_numpy(np.array(range(1,n_1+1))).reshape(n_1,1).type(dtype)\n",
    "V_input = torch.from_numpy(np.array(range(1,n_2+1))).reshape(n_2,1).type(dtype)\n",
    "W_input = torch.from_numpy(np.array(range(1,n_3+1))).reshape(n_3,1).type(dtype)\n",
    "\n",
    "model = LRTFR(r_1,r_2,r_3, mid_channel,omega).type(dtype)\n",
    "params = []\n",
    "params += [x for x in model.parameters()]\n",
    "centre.requires_grad=True\n",
    "params += [centre]\n",
    "optimizier = optim.Adam(params, lr=lr_real, weight_decay=w_decay) \n",
    "\n",
    "import time\n",
    "start = time.time()\n",
    "\n",
    "loss_record = []\n",
    "for iter in range(max_iter):\n",
    "    X_Out = model(centre, U_input, V_input, W_input)\n",
    "    loss = torch.norm(X_Out*mask-X*mask,2)\n",
    "    optimizier.zero_grad()\n",
    "    loss.backward(retain_graph=True)\n",
    "    optimizier.step()\n",
    "    loss_record.append(loss.detach().cpu().numpy())\n",
    "    \n",
    "end = time.time()\n",
    "print('Running time: %d seconds.'%(end - start))"
   ]
  },
  {
   "cell_type": "code",
   "execution_count": 8,
   "id": "925d98c9",
   "metadata": {},
   "outputs": [
    {
     "name": "stdout",
     "output_type": "stream",
     "text": [
      "6974.189\n"
     ]
    },
    {
     "data": {
      "image/png": "[encoded data removed]",
      "text/plain": [
       "<Figure size 432x288 with 1 Axes>"
      ]
     },
     "metadata": {
      "needs_background": "light"
     },
     "output_type": "display_data"
    }
   ],
   "source": [
    "plt.plot(loss_record)\n",
    "print(loss_record[-1])"
   ]
  },
  {
   "cell_type": "markdown",
   "id": "8f67f515",
   "metadata": {},
   "source": [
    "This process tasks around 100 seconds in a single GPU device"
   ]
  },
  {
   "cell_type": "markdown",
   "id": "f5d599ad",
   "metadata": {},
   "source": [
    "### Evaluation"
   ]
  },
  {
   "cell_type": "code",
   "execution_count": 9,
   "id": "ef4f8fee",
   "metadata": {},
   "outputs": [
    {
     "name": "stdout",
     "output_type": "stream",
     "text": [
      "WAPE: 0.157401\n",
      "RMSE: 72.8517\n"
     ]
    },
    {
     "data": {
      "text/plain": [
       "(-0.5, 31.5, 31.5, -0.5)"
      ]
     },
     "execution_count": 9,
     "metadata": {},
     "output_type": "execute_result"
    },
    {
     "data": {
      "image/png": "[encoded data removed]",
      "text/plain": [
       "<Figure size 432x288 with 2 Axes>"
      ]
     },
     "metadata": {
      "needs_background": "light"
     },
     "output_type": "display_data"
    }
   ],
   "source": [
    "tensor_hat_inr = X_Out.cpu().detach().numpy()\n",
    "ind = sparse_tensor != 0\n",
    "pos_test = np.where((dense_tensor != 0) & (sparse_tensor == 0))\n",
    "print('WAPE: {:.6}'.format(compute_wmape(dense_tensor[pos_test], \n",
    "                                                    tensor_hat_inr[pos_test])))\n",
    "print('RMSE: {:.6}'.format(compute_rmse(dense_tensor[pos_test], \n",
    "                                        tensor_hat_inr[pos_test])))\n",
    "\n",
    "plt.imshow(tensor_hat_inr[10],vmax=800)\n",
    "plt.title('INR Estimation',fontsize=16)\n",
    "cbar = plt.colorbar()\n",
    "cbar.set_label('Volume',fontsize=14)\n",
    "plt.axis('off')"
   ]
  },
  {
   "cell_type": "code",
   "execution_count": 10,
   "id": "9773164c",
   "metadata": {},
   "outputs": [
    {
     "data": {
      "text/plain": [
       "(-0.5, 31.5, 31.5, -0.5)"
      ]
     },
     "execution_count": 10,
     "metadata": {},
     "output_type": "execute_result"
    },
    {
     "data": {
      "image/png": "[encoded data removed]",
      "text/plain": [
       "<Figure size 432x288 with 2 Axes>"
      ]
     },
     "metadata": {
      "needs_background": "light"
     },
     "output_type": "display_data"
    }
   ],
   "source": [
    "plt.imshow(dense_tensor[10],vmax=800)\n",
    "plt.title('Ground Truth',fontsize=16)\n",
    "cbar = plt.colorbar()\n",
    "cbar.set_label('Volume',fontsize=14)\n",
    "plt.axis('off')"
   ]
  },
  {
   "cell_type": "markdown",
   "id": "56fe6e2a",
   "metadata": {},
   "source": [
    "## END"
   ]
  }
 ],
 "metadata": {
  "kernelspec": {
   "display_name": "Python 3 (ipykernel)",
   "language": "python",
   "name": "python3"
  },
  "language_info": {
   "codemirror_mode": {
    "name": "ipython",
    "version": 3
   },
   "file_extension": ".py",
   "mimetype": "text/x-python",
   "name": "python",
   "nbconvert_exporter": "python",
   "pygments_lexer": "ipython3",
   "version": "3.9.12"
  },
  "toc": {
   "base_numbering": 1,
   "nav_menu": {},
   "number_sections": true,
   "sideBar": false,
   "skip_h1_title": true,
   "title_cell": "Table of Contents",
   "title_sidebar": "Contents",
   "toc_cell": true,
   "toc_position": {},
   "toc_section_display": true,
   "toc_window_display": false
  }
 },
 "nbformat": 4,
 "nbformat_minor": 5
}
